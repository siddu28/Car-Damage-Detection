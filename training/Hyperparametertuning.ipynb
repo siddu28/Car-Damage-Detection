{
 "cells": [
  {
   "cell_type": "markdown",
   "id": "3f97e36c-e969-4d4f-a727-7759a0c53e51",
   "metadata": {},
   "source": [
    "### Transfer Learning with ResNet"
   ]
  },
  {
   "cell_type": "code",
   "execution_count": 1,
   "id": "836a329f-c6b9-46e4-9185-508c52c6e94b",
   "metadata": {},
   "outputs": [],
   "source": [
    "import os\n",
    "from torchvision import datasets,transforms\n",
    "from torch.utils.data import DataLoader\n",
    "import torch\n",
    "import torch.nn as nn\n",
    "import torch.optim as optim\n",
    "import torch.nn.functional as F\n",
    "import time\n",
    "import torchvision.models as models\n",
    "from matplotlib import pyplot as plt"
   ]
  },
  {
   "cell_type": "code",
   "execution_count": 2,
   "id": "42fb4231-5f7b-46c9-83ae-c93af59a1f3d",
   "metadata": {},
   "outputs": [
    {
     "data": {
      "text/plain": [
       "device(type='cpu')"
      ]
     },
     "execution_count": 2,
     "metadata": {},
     "output_type": "execute_result"
    }
   ],
   "source": [
    "device = torch.device(\"cuda\" if torch.cuda.is_available() else \"cpu\")\n",
    "device"
   ]
  },
  {
   "cell_type": "code",
   "execution_count": 3,
   "id": "3967ae2b-7ee9-4263-9369-0a0e63eaef29",
   "metadata": {},
   "outputs": [],
   "source": [
    "image_transforms = transforms.Compose([\n",
    "    transforms.RandomHorizontalFlip(),\n",
    "    transforms.RandomRotation(10),\n",
    "    transforms.ColorJitter(brightness=0.2, contrast=0.2),\n",
    "    transforms.Resize((224, 224)),\n",
    "    transforms.ToTensor(),\n",
    "    transforms.Normalize(mean=[0.485, 0.456, 0.406], std=[0.229, 0.224, 0.225])\n",
    "])"
   ]
  },
  {
   "cell_type": "code",
   "execution_count": 4,
   "id": "2b143809-30dc-4bb1-89ff-2aa44badb218",
   "metadata": {},
   "outputs": [
    {
     "data": {
      "text/plain": [
       "2300"
      ]
     },
     "execution_count": 4,
     "metadata": {},
     "output_type": "execute_result"
    }
   ],
   "source": [
    "dataset_path = \"./dataset\"\n",
    "\n",
    "dataset = datasets.ImageFolder(root=dataset_path, transform=image_transforms)\n",
    "len(dataset)"
   ]
  },
  {
   "cell_type": "code",
   "execution_count": 5,
   "id": "0f1158c1-4351-4f99-a87b-2a68dc15f8aa",
   "metadata": {},
   "outputs": [
    {
     "data": {
      "text/plain": [
       "['F_Breakage', 'F_Crushed', 'F_Normal', 'R_Breakage', 'R_Crushed', 'R_Normal']"
      ]
     },
     "execution_count": 5,
     "metadata": {},
     "output_type": "execute_result"
    }
   ],
   "source": [
    "class_names = dataset.classes\n",
    "class_names "
   ]
  },
  {
   "cell_type": "code",
   "execution_count": 6,
   "id": "75c3ac98-5fcc-41b9-a6aa-bc416549cb12",
   "metadata": {},
   "outputs": [
    {
     "data": {
      "text/plain": [
       "6"
      ]
     },
     "execution_count": 6,
     "metadata": {},
     "output_type": "execute_result"
    }
   ],
   "source": [
    "num_classes = len(dataset.classes)\n",
    "num_classes"
   ]
  },
  {
   "cell_type": "code",
   "execution_count": 7,
   "id": "0878e4f7-f89c-4923-80b4-0f8151186ed0",
   "metadata": {},
   "outputs": [
    {
     "data": {
      "text/plain": [
       "(1725, 575)"
      ]
     },
     "execution_count": 7,
     "metadata": {},
     "output_type": "execute_result"
    }
   ],
   "source": [
    "train_size = int(0.75*len(dataset))\n",
    "val_size = len(dataset) - train_size\n",
    "\n",
    "train_size, val_size"
   ]
  },
  {
   "cell_type": "code",
   "execution_count": 8,
   "id": "3d674e30-07cc-470c-aa17-8bf41c9402a0",
   "metadata": {},
   "outputs": [],
   "source": [
    "from torch.utils.data import random_split\n",
    "\n",
    "train_dataset, val_dataset = random_split(dataset, [train_size, val_size])"
   ]
  },
  {
   "cell_type": "code",
   "execution_count": 9,
   "id": "faca8fda-897d-47f2-8aac-e6fc3c537717",
   "metadata": {},
   "outputs": [],
   "source": [
    "train_loader = DataLoader(train_dataset, batch_size=32, shuffle=True)\n",
    "val_loader = DataLoader(val_dataset, batch_size=32, shuffle=True)"
   ]
  },
  {
   "cell_type": "code",
   "execution_count": 10,
   "id": "14a1dab2-8578-4cb8-98b8-db1a88b0b62d",
   "metadata": {},
   "outputs": [],
   "source": [
    "# Load the pre-trained ResNet model\n",
    "class CarClassifierResNet(nn.Module):\n",
    "    def __init__(self, num_classes, dropout_rate=0.5):\n",
    "        super().__init__()\n",
    "        self.model = models.resnet50(weights='DEFAULT')\n",
    "        # Freeze all layers except the final fully connected layer\n",
    "        for param in self.model.parameters():\n",
    "            param.requires_grad = False\n",
    "            \n",
    "        # Unfreeze layer4 and fc layers\n",
    "        for param in self.model.layer4.parameters():\n",
    "            param.requires_grad = True            \n",
    "            \n",
    "        # Replace the final fully connected layer\n",
    "        self.model.fc = nn.Sequential(\n",
    "            nn.Dropout(dropout_rate),\n",
    "            nn.Linear(self.model.fc.in_features, num_classes)\n",
    "        )\n",
    "\n",
    "    def forward(self, x):\n",
    "        x = self.model(x)\n",
    "        return x"
   ]
  },
  {
   "cell_type": "code",
   "execution_count": 11,
   "id": "45ebe0e3-f4c6-409e-9b52-501f8759347e",
   "metadata": {},
   "outputs": [],
   "source": [
    "# Define the objective function for Optuna\n",
    "def objective(trial):\n",
    "    # Suggest values for the hyperparameters\n",
    "    lr = trial.suggest_float('lr', 1e-5, 1e-2, log=True)\n",
    "    dropout_rate = trial.suggest_float('dropout_rate', 0.2, 0.7)\n",
    "    \n",
    "    # Load the model\n",
    "    model = CarClassifierResNet(num_classes=num_classes, dropout_rate=dropout_rate).to(device)\n",
    "    \n",
    "    # Define the loss function and optimizer\n",
    "    criterion = nn.CrossEntropyLoss()\n",
    "    optimizer = optim.Adam(filter(lambda p: p.requires_grad, model.parameters()), lr=lr)\n",
    "    \n",
    "    # Training loop (using fewer epochs for faster hyperparameter tuning)\n",
    "    epochs = 3\n",
    "    start = time.time()\n",
    "    for epoch in range(epochs):\n",
    "        model.train()\n",
    "        running_loss = 0.0\n",
    "        for batch_num, (images, labels) in enumerate(train_loader):\n",
    "            images, labels = images.to(device), labels.to(device)\n",
    "\n",
    "            optimizer.zero_grad()\n",
    "            outputs = model(images)\n",
    "            loss = criterion(outputs, labels)\n",
    "            loss.backward()\n",
    "            optimizer.step()\n",
    "            running_loss += loss.item() * images.size(0)\n",
    "\n",
    "        epoch_loss = running_loss / len(train_loader.dataset)\n",
    "        \n",
    "        # Validation loop\n",
    "        model.eval()\n",
    "        correct = 0\n",
    "        total = 0\n",
    "        with torch.no_grad():\n",
    "            for images, labels in val_loader:\n",
    "                images, labels = images.to(device), labels.to(device)\n",
    "                outputs = model(images)\n",
    "                _, predicted = torch.max(outputs.data, 1)\n",
    "                total += labels.size(0)\n",
    "                correct += (predicted == labels).sum().item()\n",
    "\n",
    "        accuracy = 100 * correct / total\n",
    "        \n",
    "        # Report intermediate result to Optuna\n",
    "        trial.report(accuracy, epoch)\n",
    "        \n",
    "        # Handle pruning (if applicable)\n",
    "        if trial.should_prune():\n",
    "            raise optuna.exceptions.TrialPruned()\n",
    "\n",
    "    end = time.time()\n",
    "    print(f\"Execution time: {end - start} seconds\")\n",
    "    \n",
    "    return accuracy"
   ]
  },
  {
   "cell_type": "code",
   "execution_count": 12,
   "id": "a644906f-387b-4b24-8669-99c999c0baf3",
   "metadata": {},
   "outputs": [
    {
     "name": "stderr",
     "output_type": "stream",
     "text": [
      "[I 2025-02-27 17:06:21,368] A new study created in memory with name: no-name-b173fc58-9270-4147-9487-f50f28f6f1fd\n",
      "[I 2025-02-27 17:30:02,765] Trial 0 finished with value: 49.91304347826087 and parameters: {'lr': 2.0158446091000113e-05, 'dropout_rate': 0.6552433045741607}. Best is trial 0 with value: 49.91304347826087.\n"
     ]
    },
    {
     "name": "stdout",
     "output_type": "stream",
     "text": [
      "Execution time: 1420.779471874237 seconds\n"
     ]
    },
    {
     "name": "stderr",
     "output_type": "stream",
     "text": [
      "[I 2025-02-27 17:52:40,250] Trial 1 finished with value: 72.69565217391305 and parameters: {'lr': 0.002738090675420578, 'dropout_rate': 0.5120458232576381}. Best is trial 1 with value: 72.69565217391305.\n"
     ]
    },
    {
     "name": "stdout",
     "output_type": "stream",
     "text": [
      "Execution time: 1356.432828426361 seconds\n"
     ]
    },
    {
     "name": "stderr",
     "output_type": "stream",
     "text": [
      "[I 2025-02-27 18:15:31,898] Trial 2 finished with value: 74.26086956521739 and parameters: {'lr': 0.0058828411343760136, 'dropout_rate': 0.36566581365302}. Best is trial 2 with value: 74.26086956521739.\n"
     ]
    },
    {
     "name": "stdout",
     "output_type": "stream",
     "text": [
      "Execution time: 1371.007354259491 seconds\n"
     ]
    },
    {
     "name": "stderr",
     "output_type": "stream",
     "text": [
      "[I 2025-02-27 18:34:46,573] Trial 3 finished with value: 62.78260869565217 and parameters: {'lr': 2.366709015923233e-05, 'dropout_rate': 0.3547096942712106}. Best is trial 2 with value: 74.26086956521739.\n"
     ]
    },
    {
     "name": "stdout",
     "output_type": "stream",
     "text": [
      "Execution time: 1153.8379809856415 seconds\n"
     ]
    },
    {
     "name": "stderr",
     "output_type": "stream",
     "text": [
      "[I 2025-02-27 18:53:27,801] Trial 4 finished with value: 78.78260869565217 and parameters: {'lr': 0.0013017355110099633, 'dropout_rate': 0.5240949625392353}. Best is trial 4 with value: 78.78260869565217.\n"
     ]
    },
    {
     "name": "stdout",
     "output_type": "stream",
     "text": [
      "Execution time: 1120.7549560070038 seconds\n"
     ]
    },
    {
     "name": "stderr",
     "output_type": "stream",
     "text": [
      "[I 2025-02-27 19:09:42,786] Trial 5 finished with value: 74.95652173913044 and parameters: {'lr': 0.00048043527914101985, 'dropout_rate': 0.4764865185670926}. Best is trial 4 with value: 78.78260869565217.\n"
     ]
    },
    {
     "name": "stdout",
     "output_type": "stream",
     "text": [
      "Execution time: 974.4304718971252 seconds\n"
     ]
    },
    {
     "name": "stderr",
     "output_type": "stream",
     "text": [
      "[I 2025-02-27 19:14:40,073] Trial 6 pruned. \n",
      "[I 2025-02-27 19:36:07,972] Trial 7 finished with value: 76.69565217391305 and parameters: {'lr': 0.0012662058914162794, 'dropout_rate': 0.46732111528893866}. Best is trial 4 with value: 78.78260869565217.\n"
     ]
    },
    {
     "name": "stdout",
     "output_type": "stream",
     "text": [
      "Execution time: 1287.5005824565887 seconds\n"
     ]
    },
    {
     "name": "stderr",
     "output_type": "stream",
     "text": [
      "[I 2025-02-27 20:13:27,036] Trial 8 pruned. \n",
      "[I 2025-02-27 20:39:20,955] Trial 9 pruned. \n"
     ]
    }
   ],
   "source": [
    "# Create the study and optimize\n",
    "import optuna\n",
    "study = optuna.create_study(direction='maximize')\n",
    "study.optimize(objective, n_trials=10)"
   ]
  },
  {
   "cell_type": "code",
   "execution_count": 13,
   "id": "e9233815-13b8-4d3b-81d4-94bcb4fe565f",
   "metadata": {},
   "outputs": [
    {
     "data": {
      "text/plain": [
       "{'lr': 0.0013017355110099633, 'dropout_rate': 0.5240949625392353}"
      ]
     },
     "execution_count": 13,
     "metadata": {},
     "output_type": "execute_result"
    }
   ],
   "source": [
    "study.best_params"
   ]
  },
  {
   "cell_type": "code",
   "execution_count": null,
   "id": "d10699d2-a38b-4437-9364-0f94a6871379",
   "metadata": {},
   "outputs": [],
   "source": []
  }
 ],
 "metadata": {
  "kernelspec": {
   "display_name": "Python 3 (ipykernel)",
   "language": "python",
   "name": "python3"
  },
  "language_info": {
   "codemirror_mode": {
    "name": "ipython",
    "version": 3
   },
   "file_extension": ".py",
   "mimetype": "text/x-python",
   "name": "python",
   "nbconvert_exporter": "python",
   "pygments_lexer": "ipython3",
   "version": "3.11.5"
  }
 },
 "nbformat": 4,
 "nbformat_minor": 5
}
